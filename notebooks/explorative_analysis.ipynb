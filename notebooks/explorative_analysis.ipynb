{
 "cells": [
  {
   "cell_type": "markdown",
   "metadata": {},
   "source": [
    "# Exploratory Analysis\n",
    "\n",
    "The aim of this notebook is to carry out exploratory analyses and get a better feel for the first dataset (1995-2000).\n",
    "\n",
    "This notebook is based on the following tutorial: https://github.com/topspinj/tmls-2020-recommender-workshop/blob/master/tutorial.ipynb"
   ]
  },
  {
   "cell_type": "code",
   "execution_count": 12,
   "metadata": {},
   "outputs": [],
   "source": [
    "# Import libraries\n",
    "import pandas as pd\n",
    "import matplotlib.pyplot as plt\n",
    "import seaborn as sns"
   ]
  },
  {
   "cell_type": "code",
   "execution_count": 15,
   "metadata": {},
   "outputs": [],
   "source": [
    "# Import data (here Time interval 1)\n",
    "ratings = pd.read_csv(\"../data/interim/ratings_TI1.csv\")\n",
    "movies = pd.read_csv(\"../data/interim/movies_TI1.csv\")"
   ]
  },
  {
   "cell_type": "code",
   "execution_count": 32,
   "metadata": {},
   "outputs": [
    {
     "name": "stdout",
     "output_type": "stream",
     "text": [
      "Number or ratings: 3977249\n",
      "Number of unique movies: 3163\n",
      "Number of unique users: 47741\n",
      "Average number of ratings per user: 83.31\n",
      "Average number of ratings per movie: 1257.43\n"
     ]
    }
   ],
   "source": [
    "# Size of the dataset\n",
    "\n",
    "print(f\"Number or ratings: {ratings.shape[0]}\")\n",
    "print(f\"Number of unique movies: {ratings['movieId'].nunique()}\")\n",
    "print(f\"Number of unique users: {ratings['userId'].nunique()}\")\n",
    "print(f\"Average number of ratings per user: {round(ratings.shape[0] / ratings['userId'].nunique(), 2)}\")\n",
    "print(f\"Average number of ratings per movie: {round(ratings.shape[0] / ratings['movieId'].nunique(), 2)}\")"
   ]
  },
  {
   "cell_type": "code",
   "execution_count": 13,
   "metadata": {},
   "outputs": [
    {
     "data": {
      "image/png": "[encoded data removed]",
      "text/plain": [
       "<Figure size 640x480 with 1 Axes>"
      ]
     },
     "metadata": {},
     "output_type": "display_data"
    }
   ],
   "source": [
    "# How are ratings distributed (over all movies)?\n",
    "sns.countplot(data=ratings, x='rating')\n",
    "plt.title('Distribution of ratings', fontsize=14)\n",
    "plt.show()"
   ]
  },
  {
   "cell_type": "code",
   "execution_count": 62,
   "metadata": {},
   "outputs": [
    {
     "data": {
      "text/plain": [
       "title\n",
       "Apollo 13 (1995)                             24536\n",
       "Braveheart (1995)                            20183\n",
       "Twelve Monkeys (a.k.a. 12 Monkeys) (1995)    19435\n",
       "Batman Forever (1995)                        19393\n",
       "Die Hard: With a Vengeance (1995)            18691\n",
       "Independence Day (a.k.a. ID4) (1996)         18687\n",
       "Toy Story (1995)                             18014\n",
       "Outbreak (1995)                              16766\n",
       "Twister (1996)                               16178\n",
       "Crimson Tide (1995)                          16172\n",
       "Name: count, dtype: int64"
      ]
     },
     "execution_count": 62,
     "metadata": {},
     "output_type": "execute_result"
    }
   ],
   "source": [
    "# Which movies are most frequently rated?\n",
    "\n",
    "movie_ratings = ratings.merge(movies, on='movieId')\n",
    "movie_ratings['title'].value_counts().head(10)"
   ]
  },
  {
   "cell_type": "code",
   "execution_count": 63,
   "metadata": {},
   "outputs": [],
   "source": [
    "def get_movie_title_by_id(id):\n",
    "    return movie_ratings[movie_ratings['movieId'] == id]['title'].values[0]"
   ]
  },
  {
   "cell_type": "code",
   "execution_count": 65,
   "metadata": {},
   "outputs": [
    {
     "name": "stdout",
     "output_type": "stream",
     "text": [
      "Lowest rated movie: Criminals (1996): 1.0\n",
      "Highest rated movie: American Beauty (1999): 4.4832843006151375\n"
     ]
    }
   ],
   "source": [
    "# Lowest and highest rated movies\n",
    "mean_ratings = movie_ratings.groupby('movieId')[['rating']].mean()\n",
    "lowest_rated = mean_ratings[\"rating\"].idxmin()\n",
    "highest_rated = mean_ratings[\"rating\"].idxmax()\n",
    "\n",
    "print(f\"Lowest rated movie: {get_movie_title_by_id(lowest_rated)}: {mean_ratings.loc[lowest_rated].values[0]}\")\n",
    "print(f\"Highest rated movie: {get_movie_title_by_id(highest_rated)}: {mean_ratings.loc[highest_rated].values[0]}\")\n"
   ]
  }
 ],
 "metadata": {
  "kernelspec": {
   "display_name": "venv",
   "language": "python",
   "name": "python3"
  },
  "language_info": {
   "codemirror_mode": {
    "name": "ipython",
    "version": 3
   },
   "file_extension": ".py",
   "mimetype": "text/x-python",
   "name": "python",
   "nbconvert_exporter": "python",
   "pygments_lexer": "ipython3",
   "version": "3.10.6"
  }
 },
 "nbformat": 4,
 "nbformat_minor": 2
}
