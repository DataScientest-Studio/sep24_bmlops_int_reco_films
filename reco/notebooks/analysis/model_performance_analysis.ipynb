import pandas as pd
import matplotlib.pyplot as plt
from typing import Dict, List

def load_metrics(file_path: str) -> pd.DataFrame:
    """
    Load performance metrics from a CSV file.
    
    Args:
    file_path (str): Path to the CSV file containing metrics.
    
    Returns:
    pd.DataFrame: DataFrame containing the metrics.
    """
    return pd.read_csv(file_path)

def plot_metrics(metrics: pd.DataFrame, metric_names: List[str]) -> None:
    """
    Plot specified metrics over time.
    
    Args:
    metrics (pd.DataFrame): DataFrame containing the metrics.
    metric_names (List[str]): List of metric names to plot.
    """
    plt.figure(figsize=(12, 6))
    for metric in metric_names:
        plt.plot(metrics['timestamp'], metrics[metric], label=metric)
    plt.xlabel('Timestamp')
    plt.ylabel('Metric Value')
    plt.title('Model Performance Metrics Over Time')
    plt.legend()
    plt.xticks(rotation=45)
    plt.tight_layout()
    plt.show()

def compare_model_versions(metrics: pd.DataFrame) -> Dict[str, float]:
    """
    Compare the latest two model versions based on average performance.
    
    Args:
    metrics (pd.DataFrame): DataFrame containing the metrics.
    
    Returns:
    Dict[str, float]: Dictionary containing the average performance difference.
    """
    latest_version = metrics['model_version'].max()
    previous_version = latest_version - 1
    
    latest_metrics = metrics[metrics['model_version'] == latest_version]
    previous_metrics = metrics[metrics['model_version'] == previous_version]
    
    diff = {}
    for column in ['accuracy', 'ndcg', 'map']:
        diff[column] = latest_metrics[column].mean() - previous_metrics[column].mean()
    
    return diff

def main():
    # Example usage
    metrics = load_metrics('path/to/metrics.csv')
    plot_metrics(metrics, ['accuracy', 'ndcg', 'map'])
    version_diff = compare_model_versions(metrics)
    print("Performance difference between latest versions:")
    for metric, diff in version_diff.items():
        print(f"{metric}: {diff:.4f}")

if __name__ == "__main__":
    main()
