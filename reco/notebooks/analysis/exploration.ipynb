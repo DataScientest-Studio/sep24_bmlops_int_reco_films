{
 "cells": [
  {
   "cell_type": "markdown",
   "metadata": {},
   "source": [
    "# Data Exploration Notebook\n",
    "\n",
    "This notebook contains exploratory data analysis (EDA) for the movie recommendation dataset.\n",
    "\n",
    "## Table of Contents\n",
    "\n",
    "1. [Import Libraries](#1-import-libraries)\n",
    "2. [Load Data](#2-load-data)\n",
    "3. [Data Overview](#3-data-overview)\n",
    "4. [Data Cleaning](#4-data-cleaning)\n",
    "5. [Visualization](#5-visualization)\n",
    "6. [Insights and Conclusions](#6-insights-and-conclusions)\n"
   ]
  },
  {
   "cell_type": "markdown",
   "metadata": {},
   "source": [
    "Import Libraries"
   ]
  },
  {
   "cell_type": "code",
   "execution_count": null,
   "metadata": {},
   "outputs": [],
   "source": [
    "# 1. Import Libraries\n",
    "import pandas as pd\n",
    "import numpy as np\n",
    "import matplotlib.pyplot as plt\n",
    "import seaborn as sns\n",
    "\n",
    "%matplotlib inline\n"
   ]
  },
  {
   "cell_type": "markdown",
   "metadata": {},
   "source": [
    "Load Data"
   ]
  },
  {
   "cell_type": "code",
   "execution_count": null,
   "metadata": {},
   "outputs": [],
   "source": [
    "df = pd.read_csv('../data/raw/movielens/ratings.csv')\n",
    "movies = pd.read_csv('../data/raw/movielens/movies.csv')\n",
    "\n",
    "# 2. Load Data\n",
    "data_path = '../data/raw/static_data.csv'\n",
    "data = pd.read_csv(data_path)\n",
    "\n"
   ]
  },
  {
   "cell_type": "markdown",
   "metadata": {},
   "source": [
    "Data Overview"
   ]
  },
  {
   "cell_type": "code",
   "execution_count": null,
   "metadata": {},
   "outputs": [],
   "source": [
    "df.head()\n",
    "df.info()\n",
    "df.describe()\n"
   ]
  },
  {
   "cell_type": "markdown",
   "metadata": {},
   "source": [
    "Check for Missing Values"
   ]
  },
  {
   "cell_type": "code",
   "execution_count": null,
   "metadata": {},
   "outputs": [],
   "source": [
    "df.isnull().sum()\n"
   ]
  },
  {
   "cell_type": "markdown",
   "metadata": {},
   "source": [
    "4. Data Cleaning"
   ]
  },
  {
   "cell_type": "code",
   "execution_count": null,
   "metadata": {},
   "outputs": [],
   "source": [
    "# 4. Data Cleaning\n",
    "\n",
    "# Drop duplicates\n",
    "data = data.drop_duplicates()\n",
    "\n",
    "# Handle missing values (if any)\n",
    "data = data.dropna()\n",
    "\n",
    "# Ensure correct data types\n",
    "data['user_id'] = data['user_id'].astype(int)\n",
    "data['movie_id'] = data['movie_id'].astype(int)\n",
    "data['rating'] = data['rating'].astype(float)\n"
   ]
  },
  {
   "cell_type": "markdown",
   "metadata": {},
   "source": [
    "Data Visualization / Distribution of Ratings"
   ]
  },
  {
   "cell_type": "code",
   "execution_count": null,
   "metadata": {},
   "outputs": [],
   "source": [
    "sns.countplot(x='rating', data=df)\n",
    "plt.title('Distribution of Movie Ratings')\n",
    "plt.show()\n"
   ]
  },
  {
   "cell_type": "code",
   "execution_count": null,
   "metadata": {},
   "outputs": [],
   "source": [
    "# 5. Visualization\n",
    "\n",
    "# Distribution of ratings\n",
    "plt.figure(figsize=(8,6))\n",
    "sns.countplot(x='rating', data=data)\n",
    "plt.title('Distribution of Ratings')\n",
    "plt.xlabel('Rating')\n",
    "plt.ylabel('Count')\n",
    "plt.show()\n"
   ]
  },
  {
   "cell_type": "code",
   "execution_count": null,
   "metadata": {},
   "outputs": [],
   "source": [
    "# Number of ratings per user\n",
    "ratings_per_user = data.groupby('user_id')['rating'].count()\n",
    "plt.figure(figsize=(10,6))\n",
    "sns.histplot(ratings_per_user, bins=50, kde=True)\n",
    "plt.title('Number of Ratings per User')\n",
    "plt.xlabel('Number of Ratings')\n",
    "plt.ylabel('Count of Users')\n",
    "plt.show()\n"
   ]
  },
  {
   "cell_type": "code",
   "execution_count": null,
   "metadata": {},
   "outputs": [],
   "source": [
    "# Number of ratings per movie\n",
    "ratings_per_movie = data.groupby('movie_id')['rating'].count()\n",
    "plt.figure(figsize=(10,6))\n",
    "sns.histplot(ratings_per_movie, bins=50, kde=True)\n",
    "plt.title('Number of Ratings per Movie')\n",
    "plt.xlabel('Number of Ratings')\n",
    "plt.ylabel('Count of Movies')\n",
    "plt.show()\n"
   ]
  },
  {
   "cell_type": "markdown",
   "metadata": {},
   "source": [
    "- The distribution of ratings shows that most users give high ratings.\n",
    "- There is a long-tail distribution in the number of ratings per user and per movie.\n",
    "- Popular movies receive a high number of ratings, while many movies have very few ratings.\n",
    "- Similar patterns are observed with users: some users rate many movies, while others rate only a few.\n"
   ]
  },
  {
   "cell_type": "markdown",
   "metadata": {},
   "source": [
    "User Activity"
   ]
  },
  {
   "cell_type": "code",
   "execution_count": null,
   "metadata": {},
   "outputs": [],
   "source": [
    "user_activity = df['userId'].value_counts()\n",
    "sns.histplot(user_activity, bins=50)\n",
    "plt.title('Number of Ratings per User')\n",
    "plt.show()\n"
   ]
  },
  {
   "cell_type": "markdown",
   "metadata": {},
   "source": [
    "Movie Popularity"
   ]
  },
  {
   "cell_type": "code",
   "execution_count": null,
   "metadata": {},
   "outputs": [],
   "source": [
    "movie_popularity = df['movieId'].value_counts()\n",
    "sns.histplot(movie_popularity, bins=50)\n",
    "plt.title('Number of Ratings per Movie')\n",
    "plt.show()\n"
   ]
  }
 ],
 "metadata": {
  "language_info": {
   "name": "python"
  }
 },
 "nbformat": 4,
 "nbformat_minor": 2
}
