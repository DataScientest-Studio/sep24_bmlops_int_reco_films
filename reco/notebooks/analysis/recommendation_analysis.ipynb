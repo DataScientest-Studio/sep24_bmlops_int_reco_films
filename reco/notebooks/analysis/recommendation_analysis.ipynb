{
 "cells": [
  {
   "cell_type": "markdown",
   "metadata": {},
   "source": [
    "# Recommendation Improvement Analysis\n",
    "\n",
    "This notebook analyzes the recommendation system to identify areas for improvement.\n",
    "\n",
    "## Table of Contents\n",
    "\n",
    "1. [Import Libraries](#1-import-libraries)\n",
    "2. [Load Data and Models](#2-load-data-and-models)\n",
    "3. [Analyze Recommendation Errors](#3-analyze-recommendation-errors)\n",
    "4. [Investigate User Behavior](#4-investigate-user-behavior)\n",
    "5. [Improve Model Performance](#5-improve-model-performance)\n",
    "6. [Conclusions and Next Steps](#6-conclusions-and-next-steps)\n"
   ]
  },
  {
   "cell_type": "code",
   "execution_count": null,
   "metadata": {},
   "outputs": [],
   "source": [
    "import pandas as pd\n",
    "import numpy as np\n",
    "import matplotlib.pyplot as plt\n",
    "import seaborn as sns\n",
    "import pickle\n",
    "from surprise import Dataset, Reader\n"
   ]
  },
  {
   "cell_type": "markdown",
   "metadata": {},
   "source": [
    "2. Load Data and Models"
   ]
  },
  {
   "cell_type": "code",
   "execution_count": null,
   "metadata": {},
   "outputs": [],
   "source": [
    "# Load evaluation data\n",
    "eval_data_path = '../data/evaluation/eval_set_1.csv'\n",
    "eval_data = pd.read_csv(eval_data_path)\n",
    "\n",
    "# Load trained model\n",
    "with open('../models/trained_models/current_model.pkl', 'rb') as f:\n",
    "    model = pickle.load(f)\n"
   ]
  },
  {
   "cell_type": "markdown",
   "metadata": {},
   "source": [
    "Analyze Recommendation Errors"
   ]
  },
  {
   "cell_type": "code",
   "execution_count": null,
   "metadata": {},
   "outputs": [],
   "source": [
    "# Prepare data for predictions\n",
    "reader = Reader(rating_scale=(eval_data['rating'].min(), eval_data['rating'].max()))\n",
    "data = Dataset.load_from_df(eval_data[['user_id', 'movie_id', 'rating']], reader)\n",
    "trainset = data.build_full_trainset()\n",
    "\n",
    "# Get predictions\n",
    "predictions = model.test(trainset.build_testset())\n",
    "\n",
    "# Convert predictions to DataFrame\n",
    "predictions_df = pd.DataFrame(predictions, columns=['user_id', 'movie_id', 'actual_rating', 'predicted_rating', 'details'])\n",
    "\n",
    "# Calculate error\n",
    "predictions_df['error'] = predictions_df['actual_rating'] - predictions_df['predicted_rating']\n",
    "\n",
    "# Plot error distribution\n",
    "plt.figure(figsize=(10,6))\n",
    "sns.histplot(predictions_df['error'], bins=50, kde=True)\n",
    "plt.title('Distribution of Prediction Errors')\n",
    "plt.xlabel('Error')\n",
    "plt.ylabel('Count')\n",
    "plt.show()\n"
   ]
  },
  {
   "cell_type": "markdown",
   "metadata": {},
   "source": [
    "Investigate User Behavior"
   ]
  },
  {
   "cell_type": "code",
   "execution_count": null,
   "metadata": {},
   "outputs": [],
   "source": [
    "# Identify users with highest prediction errors\n",
    "user_errors = predictions_df.groupby('user_id')['error'].mean().reset_index()\n",
    "top_users = user_errors.sort_values('error', ascending=False).head(10)\n",
    "print(\"Users with highest average prediction errors:\")\n",
    "print(top_users)\n",
    "\n",
    "# Analyze ratings of top users\n",
    "for user_id in top_users['user_id']:\n",
    "    user_data = eval_data[eval_data['user_id'] == user_id]\n",
    "    plt.figure(figsize=(8,4))\n",
    "    sns.countplot(x='rating', data=user_data)\n",
    "    plt.title(f'Rating Distribution for User {user_id}')\n",
    "    plt.show()\n"
   ]
  },
  {
   "cell_type": "markdown",
   "metadata": {},
   "source": [
    "Improve Model Performance\n",
    "- Consider adding more user-specific features.\n",
    "- Experiment with different algorithms or hyperparameters.\n",
    "- Address data sparsity issues by implementing dimensionality reduction techniques.\n",
    "\n",
    "- The model performs well overall but struggles with certain users.\n",
    "- Further investigation is needed to understand these discrepancies.\n",
    "- Implementing the identified improvements could enhance the recommendation quality.\n",
    "\n"
   ]
  }
 ],
 "metadata": {
  "language_info": {
   "name": "python"
  }
 },
 "nbformat": 4,
 "nbformat_minor": 2
}
