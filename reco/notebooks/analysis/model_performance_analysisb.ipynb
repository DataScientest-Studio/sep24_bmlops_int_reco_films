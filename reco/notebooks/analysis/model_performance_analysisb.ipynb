{
 "cells": [
  {
   "cell_type": "markdown",
   "metadata": {},
   "source": [
    "# Model Performance Analysis\n",
    "\n",
    "This notebook evaluates and compares the performance of different recommendation algorithms.\n",
    "\n",
    "## Table of Contents\n",
    "\n",
    "1. [Import Libraries](#1-import-libraries)\n",
    "2. [Load Evaluation Data](#2-load-evaluation-data)\n",
    "3. [Load Trained Models](#3-load-trained-models)\n",
    "4. [Evaluate Models](#4-evaluate-models)\n",
    "5. [Compare Results](#5-compare-results)\n",
    "6. [Visualizations](#6-visualizations)\n",
    "7. [Conclusions](#7-conclusions)\n"
   ]
  },
  {
   "cell_type": "code",
   "execution_count": null,
   "metadata": {},
   "outputs": [],
   "source": [
    "# 1. Import Libraries\n",
    "import pandas as pd\n",
    "import numpy as np\n",
    "import pickle\n",
    "from surprise import Dataset, Reader, SVD, KNNBasic\n",
    "from surprise.model_selection import cross_validate\n",
    "import matplotlib.pyplot as plt\n",
    "import seaborn as sns\n"
   ]
  },
  {
   "cell_type": "code",
   "execution_count": null,
   "metadata": {},
   "outputs": [],
   "source": [
    "# 2. Load Evaluation Data\n",
    "eval_data_path = '../data/evaluation/eval_set_1.csv'\n",
    "eval_data = pd.read_csv(eval_data_path)\n"
   ]
  },
  {
   "cell_type": "code",
   "execution_count": null,
   "metadata": {},
   "outputs": [],
   "source": [
    "# 3. Load Trained Models\n",
    "\n",
    "# Load SVD model\n",
    "with open('../models/trained_models/model_svd.pkl', 'rb') as f:\n",
    "    svd_model = pickle.load(f)\n",
    "\n",
    "# Load KNN model (if you have another model)\n",
    "with open('../models/trained_models/model_knn.pkl', 'rb') as f:\n",
    "    knn_model = pickle.load(f)\n"
   ]
  },
  {
   "cell_type": "code",
   "execution_count": null,
   "metadata": {},
   "outputs": [],
   "source": [
    "# Prepare data for Surprise\n",
    "reader = Reader(rating_scale=(eval_data['rating'].min(), eval_data['rating'].max()))\n",
    "data = Dataset.load_from_df(eval_data[['user_id', 'movie_id', 'rating']], reader)\n"
   ]
  },
  {
   "cell_type": "code",
   "execution_count": null,
   "metadata": {},
   "outputs": [],
   "source": [
    "# 5. Compare Results\n",
    "results_df = pd.DataFrame({\n",
    "    'Algorithm': ['SVD', 'KNN'],\n",
    "    'RMSE': [np.mean(svd_results['test_rmse']), np.mean(knn_results['test_rmse'])],\n",
    "    'MAE': [np.mean(svd_results['test_mae']), np.mean(knn_results['test_mae'])]\n",
    "})\n",
    "results_df\n"
   ]
  },
  {
   "cell_type": "code",
   "execution_count": null,
   "metadata": {},
   "outputs": [],
   "source": [
    "# 6. Visualizations\n",
    "\n",
    "# Bar plot for RMSE\n",
    "plt.figure(figsize=(8,6))\n",
    "sns.barplot(x='Algorithm', y='RMSE', data=results_df)\n",
    "plt.title('RMSE Comparison')\n",
    "plt.show()\n",
    "\n",
    "# Bar plot for MAE\n",
    "plt.figure(figsize=(8,6))\n",
    "sns.barplot(x='Algorithm', y='MAE', data=results_df)\n",
    "plt.title('MAE Comparison')\n",
    "plt.show()\n"
   ]
  },
  {
   "cell_type": "markdown",
   "metadata": {},
   "source": [
    "- The SVD model outperforms the KNN model in terms of RMSE and MAE.\n",
    "- The lower RMSE and MAE indicate that the SVD model makes more accurate predictions.\n",
    "- Based on these results, we should consider using the SVD model in production.\n"
   ]
  }
 ],
 "metadata": {
  "language_info": {
   "name": "python"
  }
 },
 "nbformat": 4,
 "nbformat_minor": 2
}
